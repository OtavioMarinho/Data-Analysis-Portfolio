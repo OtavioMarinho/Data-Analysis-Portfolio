# Análise Superstore

## Otávio Marinho

O trabalho tem como objetivo fazer uma análise geral das vendas e tendências da loja fictícia Superstore usando ferramentas de limpeza e análise de dados em Python, além de trazer insights e recomendações. Os dados foram retirados do [Kaggle](https://kaggle.com). 

O dataset original (train.csv) contém 9800 linhas e 18 colunas. 

[Fonte](https://www.kaggle.com/datasets/rohitsahoo/sales-forecasting)

[Licença](https://www.gnu.org/licenses/old-licenses/gpl-2.0.en.html)

## **Importando Dados e Bibliotecas**
Bibliotecas que foram utilizadas no projeto e uma visão geral do dataset.

import pandas as pd
import matplotlib.pyplot as plt
import seaborn as sns

sns.set_theme(style='dark')

sales = pd.read_csv('train.csv')

sales.dtypes
